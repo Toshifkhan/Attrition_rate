{
 "cells": [
  {
   "cell_type": "code",
   "execution_count": 1,
   "metadata": {},
   "outputs": [],
   "source": [
    "import pandas as pd\n",
    "import numpy as np\n",
    "import matplotlib.pyplot as plt\n",
    "import seaborn as sns\n",
    "import os"
   ]
  },
  {
   "cell_type": "code",
   "execution_count": 2,
   "metadata": {},
   "outputs": [
    {
     "data": {
      "text/plain": [
       "'C:\\\\Users\\\\toshi\\\\Downloads\\\\intership'"
      ]
     },
     "execution_count": 2,
     "metadata": {},
     "output_type": "execute_result"
    }
   ],
   "source": [
    "os.getcwd()"
   ]
  },
  {
   "cell_type": "code",
   "execution_count": 3,
   "metadata": {},
   "outputs": [],
   "source": [
    "df=pd.read_csv('MFG10YearTerminationData.csv')"
   ]
  },
  {
   "cell_type": "code",
   "execution_count": 6,
   "metadata": {},
   "outputs": [
    {
     "data": {
      "text/html": [
       "<div>\n",
       "<style scoped>\n",
       "    .dataframe tbody tr th:only-of-type {\n",
       "        vertical-align: middle;\n",
       "    }\n",
       "\n",
       "    .dataframe tbody tr th {\n",
       "        vertical-align: top;\n",
       "    }\n",
       "\n",
       "    .dataframe thead th {\n",
       "        text-align: right;\n",
       "    }\n",
       "</style>\n",
       "<table border=\"1\" class=\"dataframe\">\n",
       "  <thead>\n",
       "    <tr style=\"text-align: right;\">\n",
       "      <th></th>\n",
       "      <th>EmployeeID</th>\n",
       "      <th>recorddate_key</th>\n",
       "      <th>birthdate_key</th>\n",
       "      <th>orighiredate_key</th>\n",
       "      <th>terminationdate_key</th>\n",
       "      <th>age</th>\n",
       "      <th>length_of_service</th>\n",
       "      <th>city_name</th>\n",
       "      <th>department_name</th>\n",
       "      <th>job_title</th>\n",
       "      <th>store_name</th>\n",
       "      <th>gender_short</th>\n",
       "      <th>gender_full</th>\n",
       "      <th>termreason_desc</th>\n",
       "      <th>termtype_desc</th>\n",
       "      <th>STATUS_YEAR</th>\n",
       "      <th>STATUS</th>\n",
       "      <th>BUSINESS_UNIT</th>\n",
       "    </tr>\n",
       "  </thead>\n",
       "  <tbody>\n",
       "    <tr>\n",
       "      <th>0</th>\n",
       "      <td>1318</td>\n",
       "      <td>12/31/2006 0:00</td>\n",
       "      <td>1/3/1954</td>\n",
       "      <td>8/28/1989</td>\n",
       "      <td>1/1/1900</td>\n",
       "      <td>52</td>\n",
       "      <td>17</td>\n",
       "      <td>Vancouver</td>\n",
       "      <td>Executive</td>\n",
       "      <td>CEO</td>\n",
       "      <td>35</td>\n",
       "      <td>M</td>\n",
       "      <td>Male</td>\n",
       "      <td>Not Applicable</td>\n",
       "      <td>Not Applicable</td>\n",
       "      <td>2006</td>\n",
       "      <td>ACTIVE</td>\n",
       "      <td>HEADOFFICE</td>\n",
       "    </tr>\n",
       "    <tr>\n",
       "      <th>1</th>\n",
       "      <td>1318</td>\n",
       "      <td>12/31/2007 0:00</td>\n",
       "      <td>1/3/1954</td>\n",
       "      <td>8/28/1989</td>\n",
       "      <td>1/1/1900</td>\n",
       "      <td>53</td>\n",
       "      <td>18</td>\n",
       "      <td>Vancouver</td>\n",
       "      <td>Executive</td>\n",
       "      <td>CEO</td>\n",
       "      <td>35</td>\n",
       "      <td>M</td>\n",
       "      <td>Male</td>\n",
       "      <td>Not Applicable</td>\n",
       "      <td>Not Applicable</td>\n",
       "      <td>2007</td>\n",
       "      <td>ACTIVE</td>\n",
       "      <td>HEADOFFICE</td>\n",
       "    </tr>\n",
       "    <tr>\n",
       "      <th>2</th>\n",
       "      <td>1318</td>\n",
       "      <td>12/31/2008 0:00</td>\n",
       "      <td>1/3/1954</td>\n",
       "      <td>8/28/1989</td>\n",
       "      <td>1/1/1900</td>\n",
       "      <td>54</td>\n",
       "      <td>19</td>\n",
       "      <td>Vancouver</td>\n",
       "      <td>Executive</td>\n",
       "      <td>CEO</td>\n",
       "      <td>35</td>\n",
       "      <td>M</td>\n",
       "      <td>Male</td>\n",
       "      <td>Not Applicable</td>\n",
       "      <td>Not Applicable</td>\n",
       "      <td>2008</td>\n",
       "      <td>ACTIVE</td>\n",
       "      <td>HEADOFFICE</td>\n",
       "    </tr>\n",
       "    <tr>\n",
       "      <th>3</th>\n",
       "      <td>1318</td>\n",
       "      <td>12/31/2009 0:00</td>\n",
       "      <td>1/3/1954</td>\n",
       "      <td>8/28/1989</td>\n",
       "      <td>1/1/1900</td>\n",
       "      <td>55</td>\n",
       "      <td>20</td>\n",
       "      <td>Vancouver</td>\n",
       "      <td>Executive</td>\n",
       "      <td>CEO</td>\n",
       "      <td>35</td>\n",
       "      <td>M</td>\n",
       "      <td>Male</td>\n",
       "      <td>Not Applicable</td>\n",
       "      <td>Not Applicable</td>\n",
       "      <td>2009</td>\n",
       "      <td>ACTIVE</td>\n",
       "      <td>HEADOFFICE</td>\n",
       "    </tr>\n",
       "    <tr>\n",
       "      <th>4</th>\n",
       "      <td>1318</td>\n",
       "      <td>12/31/2010 0:00</td>\n",
       "      <td>1/3/1954</td>\n",
       "      <td>8/28/1989</td>\n",
       "      <td>1/1/1900</td>\n",
       "      <td>56</td>\n",
       "      <td>21</td>\n",
       "      <td>Vancouver</td>\n",
       "      <td>Executive</td>\n",
       "      <td>CEO</td>\n",
       "      <td>35</td>\n",
       "      <td>M</td>\n",
       "      <td>Male</td>\n",
       "      <td>Not Applicable</td>\n",
       "      <td>Not Applicable</td>\n",
       "      <td>2010</td>\n",
       "      <td>ACTIVE</td>\n",
       "      <td>HEADOFFICE</td>\n",
       "    </tr>\n",
       "  </tbody>\n",
       "</table>\n",
       "</div>"
      ],
      "text/plain": [
       "   EmployeeID   recorddate_key birthdate_key orighiredate_key  \\\n",
       "0        1318  12/31/2006 0:00      1/3/1954        8/28/1989   \n",
       "1        1318  12/31/2007 0:00      1/3/1954        8/28/1989   \n",
       "2        1318  12/31/2008 0:00      1/3/1954        8/28/1989   \n",
       "3        1318  12/31/2009 0:00      1/3/1954        8/28/1989   \n",
       "4        1318  12/31/2010 0:00      1/3/1954        8/28/1989   \n",
       "\n",
       "  terminationdate_key  age  length_of_service  city_name department_name  \\\n",
       "0            1/1/1900   52                 17  Vancouver       Executive   \n",
       "1            1/1/1900   53                 18  Vancouver       Executive   \n",
       "2            1/1/1900   54                 19  Vancouver       Executive   \n",
       "3            1/1/1900   55                 20  Vancouver       Executive   \n",
       "4            1/1/1900   56                 21  Vancouver       Executive   \n",
       "\n",
       "  job_title  store_name gender_short gender_full termreason_desc  \\\n",
       "0       CEO          35            M        Male  Not Applicable   \n",
       "1       CEO          35            M        Male  Not Applicable   \n",
       "2       CEO          35            M        Male  Not Applicable   \n",
       "3       CEO          35            M        Male  Not Applicable   \n",
       "4       CEO          35            M        Male  Not Applicable   \n",
       "\n",
       "    termtype_desc  STATUS_YEAR  STATUS BUSINESS_UNIT  \n",
       "0  Not Applicable         2006  ACTIVE    HEADOFFICE  \n",
       "1  Not Applicable         2007  ACTIVE    HEADOFFICE  \n",
       "2  Not Applicable         2008  ACTIVE    HEADOFFICE  \n",
       "3  Not Applicable         2009  ACTIVE    HEADOFFICE  \n",
       "4  Not Applicable         2010  ACTIVE    HEADOFFICE  "
      ]
     },
     "execution_count": 6,
     "metadata": {},
     "output_type": "execute_result"
    }
   ],
   "source": [
    "df.head()"
   ]
  },
  {
   "cell_type": "code",
   "execution_count": 7,
   "metadata": {},
   "outputs": [
    {
     "name": "stdout",
     "output_type": "stream",
     "text": [
      "<class 'pandas.core.frame.DataFrame'>\n",
      "RangeIndex: 49653 entries, 0 to 49652\n",
      "Data columns (total 18 columns):\n",
      "EmployeeID             49653 non-null int64\n",
      "recorddate_key         49653 non-null object\n",
      "birthdate_key          49653 non-null object\n",
      "orighiredate_key       49653 non-null object\n",
      "terminationdate_key    49653 non-null object\n",
      "age                    49653 non-null int64\n",
      "length_of_service      49653 non-null int64\n",
      "city_name              49653 non-null object\n",
      "department_name        49653 non-null object\n",
      "job_title              49653 non-null object\n",
      "store_name             49653 non-null int64\n",
      "gender_short           49653 non-null object\n",
      "gender_full            49653 non-null object\n",
      "termreason_desc        49653 non-null object\n",
      "termtype_desc          49653 non-null object\n",
      "STATUS_YEAR            49653 non-null int64\n",
      "STATUS                 49653 non-null object\n",
      "BUSINESS_UNIT          49653 non-null object\n",
      "dtypes: int64(5), object(13)\n",
      "memory usage: 6.8+ MB\n"
     ]
    }
   ],
   "source": [
    "df.info()"
   ]
  },
  {
   "cell_type": "markdown",
   "metadata": {},
   "source": [
    "# ANALYSIS THE DATASET"
   ]
  },
  {
   "cell_type": "code",
   "execution_count": 8,
   "metadata": {},
   "outputs": [],
   "source": [
    "colors = ['#E69F00', '#56B4E9', '#F0E442', '#009E73', '#D55E00', '#FFFF00', '#008000', '#00FF00', '#00FFFF', '#0000FF']"
   ]
  },
  {
   "cell_type": "code",
   "execution_count": 9,
   "metadata": {},
   "outputs": [
    {
     "data": {
      "text/plain": [
       "(array([ 566.,  703.,  815., 2071., 1197., 1210., 1235., 2452., 1212.,\n",
       "        1146., 2317., 1188., 1189., 1176., 2305., 1142., 1130., 1135.,\n",
       "        2302., 1157., 1141., 2334., 1180., 1196., 1218., 2395., 1188.,\n",
       "        1159., 2322., 1130., 1130., 1128., 1866.,  712.,  667., 1239.]),\n",
       " array([19.        , 20.27777778, 21.55555556, 22.83333333, 24.11111111,\n",
       "        25.38888889, 26.66666667, 27.94444444, 29.22222222, 30.5       ,\n",
       "        31.77777778, 33.05555556, 34.33333333, 35.61111111, 36.88888889,\n",
       "        38.16666667, 39.44444444, 40.72222222, 42.        , 43.27777778,\n",
       "        44.55555556, 45.83333333, 47.11111111, 48.38888889, 49.66666667,\n",
       "        50.94444444, 52.22222222, 53.5       , 54.77777778, 56.05555556,\n",
       "        57.33333333, 58.61111111, 59.88888889, 61.16666667, 62.44444444,\n",
       "        63.72222222, 65.        ]),\n",
       " <a list of 36 Patch objects>)"
      ]
     },
     "execution_count": 9,
     "metadata": {},
     "output_type": "execute_result"
    },
    {
     "data": {
      "image/png": "[encoded data removed]",
      "text/plain": [
       "<Figure size 432x288 with 1 Axes>"
      ]
     },
     "metadata": {},
     "output_type": "display_data"
    }
   ],
   "source": [
    "plt.hist(df['age'], color ='#E69F00',edgecolor = 'black', bins = int(180/5))"
   ]
  },
  {
   "cell_type": "code",
   "execution_count": 10,
   "metadata": {},
   "outputs": [
    {
     "data": {
      "text/plain": [
       "(array([1962., 2222., 2257.,    0., 2270., 2262., 2258.,    0., 2294.,\n",
       "        2341.,    0., 2559., 2381., 2432.,    0., 2482., 2567.,    0.,\n",
       "        2885., 2203., 2192.,    0., 2160., 2066., 1829.,    0., 1656.,\n",
       "        1322.,    0., 1047.,  830.,  608.,    0.,  433.,  121.,   14.]),\n",
       " array([ 0.        ,  0.72222222,  1.44444444,  2.16666667,  2.88888889,\n",
       "         3.61111111,  4.33333333,  5.05555556,  5.77777778,  6.5       ,\n",
       "         7.22222222,  7.94444444,  8.66666667,  9.38888889, 10.11111111,\n",
       "        10.83333333, 11.55555556, 12.27777778, 13.        , 13.72222222,\n",
       "        14.44444444, 15.16666667, 15.88888889, 16.61111111, 17.33333333,\n",
       "        18.05555556, 18.77777778, 19.5       , 20.22222222, 20.94444444,\n",
       "        21.66666667, 22.38888889, 23.11111111, 23.83333333, 24.55555556,\n",
       "        25.27777778, 26.        ]),\n",
       " <a list of 36 Patch objects>)"
      ]
     },
     "execution_count": 10,
     "metadata": {},
     "output_type": "execute_result"
    },
    {
     "data": {
      "image/png": "[encoded data removed]",
      "text/plain": [
       "<Figure size 432x288 with 1 Axes>"
      ]
     },
     "metadata": {},
     "output_type": "display_data"
    }
   ],
   "source": [
    "plt.hist(df['length_of_service'], color = '#56B4E9', edgecolor = 'black',bins = int(180/5))"
   ]
  },
  {
   "cell_type": "code",
   "execution_count": 11,
   "metadata": {},
   "outputs": [
    {
     "data": {
      "text/plain": [
       "(array([4579.,    0.,    0.,    0., 4683.,    0.,    0.,    0., 4767.,\n",
       "           0.,    0.,    0., 4852.,    0.,    0.,    0., 4963.,    0.,\n",
       "           0.,    0., 5082.,    0.,    0.,    0., 5231.,    0.,    0.,\n",
       "           0., 5320.,    0.,    0.,    0., 5215.,    0.,    0., 4961.]),\n",
       " array([2006.  , 2006.25, 2006.5 , 2006.75, 2007.  , 2007.25, 2007.5 ,\n",
       "        2007.75, 2008.  , 2008.25, 2008.5 , 2008.75, 2009.  , 2009.25,\n",
       "        2009.5 , 2009.75, 2010.  , 2010.25, 2010.5 , 2010.75, 2011.  ,\n",
       "        2011.25, 2011.5 , 2011.75, 2012.  , 2012.25, 2012.5 , 2012.75,\n",
       "        2013.  , 2013.25, 2013.5 , 2013.75, 2014.  , 2014.25, 2014.5 ,\n",
       "        2014.75, 2015.  ]),\n",
       " <a list of 36 Patch objects>)"
      ]
     },
     "execution_count": 11,
     "metadata": {},
     "output_type": "execute_result"
    },
    {
     "data": {
      "image/png": "[encoded data removed]",
      "text/plain": [
       "<Figure size 432x288 with 1 Axes>"
      ]
     },
     "metadata": {},
     "output_type": "display_data"
    }
   ],
   "source": [
    "plt.hist(df['STATUS_YEAR'], color = '#F0E442', edgecolor = 'black',bins = int(180/5))"
   ]
  },
  {
   "cell_type": "code",
   "execution_count": 12,
   "metadata": {},
   "outputs": [
    {
     "data": {
      "text/plain": [
       "(array([1201.,  126.,    9., 2067., 1210., 1785.,  129.,   18.,  943.,\n",
       "         236.,  182., 2061., 3414., 3876.,  317.,  254., 3859.,   65.,\n",
       "          57.,  545., 2184.,  703., 1401.,  806., 2788.,  925.,   37.,\n",
       "        1143., 1361.,  613.,  231.,  617., 5592., 2896., 1520., 4482.]),\n",
       " array([ 1.  ,  2.25,  3.5 ,  4.75,  6.  ,  7.25,  8.5 ,  9.75, 11.  ,\n",
       "        12.25, 13.5 , 14.75, 16.  , 17.25, 18.5 , 19.75, 21.  , 22.25,\n",
       "        23.5 , 24.75, 26.  , 27.25, 28.5 , 29.75, 31.  , 32.25, 33.5 ,\n",
       "        34.75, 36.  , 37.25, 38.5 , 39.75, 41.  , 42.25, 43.5 , 44.75,\n",
       "        46.  ]),\n",
       " <a list of 36 Patch objects>)"
      ]
     },
     "execution_count": 12,
     "metadata": {},
     "output_type": "execute_result"
    },
    {
     "data": {
      "image/png": "[encoded data removed]",
      "text/plain": [
       "<Figure size 432x288 with 1 Axes>"
      ]
     },
     "metadata": {},
     "output_type": "display_data"
    }
   ],
   "source": [
    "plt.hist(df['store_name'], color = '#009E73', edgecolor = 'black',\n",
    "         \n",
    "         bins = int(180/5))\n"
   ]
  },
  {
   "cell_type": "code",
   "execution_count": 14,
   "metadata": {},
   "outputs": [
    {
     "data": {
      "text/plain": [
       "<matplotlib.axes._subplots.AxesSubplot at 0x15c09497da0>"
      ]
     },
     "execution_count": 14,
     "metadata": {},
     "output_type": "execute_result"
    },
    {
     "data": {
      "image/png": "[encoded data removed]",
      "text/plain": [
       "<Figure size 432x288 with 1 Axes>"
      ]
     },
     "metadata": {},
     "output_type": "display_data"
    }
   ],
   "source": [
    "df[['age','gender_full']].boxplot(by = 'gender_full')"
   ]
  },
  {
   "cell_type": "code",
   "execution_count": 15,
   "metadata": {},
   "outputs": [
    {
     "name": "stderr",
     "output_type": "stream",
     "text": [
      "C:\\Users\\toshi\\Anaconda3\\lib\\site-packages\\matplotlib\\axes\\_axes.py:6462: UserWarning: The 'normed' kwarg is deprecated, and has been replaced by the 'density' kwarg.\n",
      "  warnings.warn(\"The 'normed' kwarg is deprecated, and has been \"\n"
     ]
    },
    {
     "data": {
      "text/plain": [
       "<matplotlib.axes._subplots.AxesSubplot at 0x15c09529be0>"
      ]
     },
     "execution_count": 15,
     "metadata": {},
     "output_type": "execute_result"
    },
    {
     "data": {
      "image/png": "[encoded data removed]",
      "text/plain": [
       "<Figure size 432x288 with 1 Axes>"
      ]
     },
     "metadata": {},
     "output_type": "display_data"
    }
   ],
   "source": [
    "sns.distplot(df['age'], hist=True, kde=True, \n",
    "             bins=int(180/5), color = '#D55E00',hist_kws={'edgecolor':'black'},kde_kws={'linewidth': 4})"
   ]
  },
  {
   "cell_type": "code",
   "execution_count": 16,
   "metadata": {},
   "outputs": [
    {
     "name": "stderr",
     "output_type": "stream",
     "text": [
      "C:\\Users\\toshi\\Anaconda3\\lib\\site-packages\\matplotlib\\axes\\_axes.py:6462: UserWarning: The 'normed' kwarg is deprecated, and has been replaced by the 'density' kwarg.\n",
      "  warnings.warn(\"The 'normed' kwarg is deprecated, and has been \"\n"
     ]
    },
    {
     "data": {
      "text/plain": [
       "<matplotlib.axes._subplots.AxesSubplot at 0x15c0978bac8>"
      ]
     },
     "execution_count": 16,
     "metadata": {},
     "output_type": "execute_result"
    },
    {
     "data": {
      "image/png": "[encoded data removed]",
      "text/plain": [
       "<Figure size 432x288 with 1 Axes>"
      ]
     },
     "metadata": {},
     "output_type": "display_data"
    }
   ],
   "source": [
    "sns.distplot(df['STATUS_YEAR'], hist=True, kde=True, \n",
    "             bins=int(180/5), color = '#FFFF00',\n",
    "             hist_kws={'edgecolor':'black'},\n",
    "             kde_kws={'linewidth': 4})"
   ]
  },
  {
   "cell_type": "code",
   "execution_count": 17,
   "metadata": {},
   "outputs": [
    {
     "name": "stderr",
     "output_type": "stream",
     "text": [
      "C:\\Users\\toshi\\Anaconda3\\lib\\site-packages\\matplotlib\\axes\\_axes.py:6462: UserWarning: The 'normed' kwarg is deprecated, and has been replaced by the 'density' kwarg.\n",
      "  warnings.warn(\"The 'normed' kwarg is deprecated, and has been \"\n"
     ]
    },
    {
     "data": {
      "text/plain": [
       "<matplotlib.axes._subplots.AxesSubplot at 0x15c09758828>"
      ]
     },
     "execution_count": 17,
     "metadata": {},
     "output_type": "execute_result"
    },
    {
     "data": {
      "image/png": "[encoded data removed]",
      "text/plain": [
       "<Figure size 432x288 with 1 Axes>"
      ]
     },
     "metadata": {},
     "output_type": "display_data"
    }
   ],
   "source": [
    "sns.distplot(df['length_of_service'], hist=True, kde=True, \n",
    "             bins=int(180/5), color = 'red',\n",
    "             hist_kws={'edgecolor':'black'},\n",
    "             kde_kws={'linewidth': 4})"
   ]
  },
  {
   "cell_type": "code",
   "execution_count": 18,
   "metadata": {},
   "outputs": [],
   "source": [
    "status_count = df[['STATUS_YEAR','STATUS']]\n",
    "#year = dataset.groupby('STATUS_YEAR').count()"
   ]
  },
  {
   "cell_type": "code",
   "execution_count": 19,
   "metadata": {},
   "outputs": [],
   "source": [
    "year = df.groupby('STATUS_YEAR').count()"
   ]
  },
  {
   "cell_type": "code",
   "execution_count": 20,
   "metadata": {},
   "outputs": [
    {
     "data": {
      "text/html": [
       "<div>\n",
       "<style scoped>\n",
       "    .dataframe tbody tr th:only-of-type {\n",
       "        vertical-align: middle;\n",
       "    }\n",
       "\n",
       "    .dataframe tbody tr th {\n",
       "        vertical-align: top;\n",
       "    }\n",
       "\n",
       "    .dataframe thead th {\n",
       "        text-align: right;\n",
       "    }\n",
       "</style>\n",
       "<table border=\"1\" class=\"dataframe\">\n",
       "  <thead>\n",
       "    <tr style=\"text-align: right;\">\n",
       "      <th></th>\n",
       "      <th>EmployeeID</th>\n",
       "      <th>recorddate_key</th>\n",
       "      <th>birthdate_key</th>\n",
       "      <th>orighiredate_key</th>\n",
       "      <th>terminationdate_key</th>\n",
       "      <th>age</th>\n",
       "      <th>length_of_service</th>\n",
       "      <th>city_name</th>\n",
       "      <th>department_name</th>\n",
       "      <th>job_title</th>\n",
       "      <th>store_name</th>\n",
       "      <th>gender_short</th>\n",
       "      <th>gender_full</th>\n",
       "      <th>termreason_desc</th>\n",
       "      <th>termtype_desc</th>\n",
       "      <th>STATUS</th>\n",
       "      <th>BUSINESS_UNIT</th>\n",
       "    </tr>\n",
       "    <tr>\n",
       "      <th>STATUS_YEAR</th>\n",
       "      <th></th>\n",
       "      <th></th>\n",
       "      <th></th>\n",
       "      <th></th>\n",
       "      <th></th>\n",
       "      <th></th>\n",
       "      <th></th>\n",
       "      <th></th>\n",
       "      <th></th>\n",
       "      <th></th>\n",
       "      <th></th>\n",
       "      <th></th>\n",
       "      <th></th>\n",
       "      <th></th>\n",
       "      <th></th>\n",
       "      <th></th>\n",
       "      <th></th>\n",
       "    </tr>\n",
       "  </thead>\n",
       "  <tbody>\n",
       "    <tr>\n",
       "      <th>2006</th>\n",
       "      <td>4579</td>\n",
       "      <td>4579</td>\n",
       "      <td>4579</td>\n",
       "      <td>4579</td>\n",
       "      <td>4579</td>\n",
       "      <td>4579</td>\n",
       "      <td>4579</td>\n",
       "      <td>4579</td>\n",
       "      <td>4579</td>\n",
       "      <td>4579</td>\n",
       "      <td>4579</td>\n",
       "      <td>4579</td>\n",
       "      <td>4579</td>\n",
       "      <td>4579</td>\n",
       "      <td>4579</td>\n",
       "      <td>4579</td>\n",
       "      <td>4579</td>\n",
       "    </tr>\n",
       "    <tr>\n",
       "      <th>2007</th>\n",
       "      <td>4683</td>\n",
       "      <td>4683</td>\n",
       "      <td>4683</td>\n",
       "      <td>4683</td>\n",
       "      <td>4683</td>\n",
       "      <td>4683</td>\n",
       "      <td>4683</td>\n",
       "      <td>4683</td>\n",
       "      <td>4683</td>\n",
       "      <td>4683</td>\n",
       "      <td>4683</td>\n",
       "      <td>4683</td>\n",
       "      <td>4683</td>\n",
       "      <td>4683</td>\n",
       "      <td>4683</td>\n",
       "      <td>4683</td>\n",
       "      <td>4683</td>\n",
       "    </tr>\n",
       "    <tr>\n",
       "      <th>2008</th>\n",
       "      <td>4767</td>\n",
       "      <td>4767</td>\n",
       "      <td>4767</td>\n",
       "      <td>4767</td>\n",
       "      <td>4767</td>\n",
       "      <td>4767</td>\n",
       "      <td>4767</td>\n",
       "      <td>4767</td>\n",
       "      <td>4767</td>\n",
       "      <td>4767</td>\n",
       "      <td>4767</td>\n",
       "      <td>4767</td>\n",
       "      <td>4767</td>\n",
       "      <td>4767</td>\n",
       "      <td>4767</td>\n",
       "      <td>4767</td>\n",
       "      <td>4767</td>\n",
       "    </tr>\n",
       "    <tr>\n",
       "      <th>2009</th>\n",
       "      <td>4852</td>\n",
       "      <td>4852</td>\n",
       "      <td>4852</td>\n",
       "      <td>4852</td>\n",
       "      <td>4852</td>\n",
       "      <td>4852</td>\n",
       "      <td>4852</td>\n",
       "      <td>4852</td>\n",
       "      <td>4852</td>\n",
       "      <td>4852</td>\n",
       "      <td>4852</td>\n",
       "      <td>4852</td>\n",
       "      <td>4852</td>\n",
       "      <td>4852</td>\n",
       "      <td>4852</td>\n",
       "      <td>4852</td>\n",
       "      <td>4852</td>\n",
       "    </tr>\n",
       "    <tr>\n",
       "      <th>2010</th>\n",
       "      <td>4963</td>\n",
       "      <td>4963</td>\n",
       "      <td>4963</td>\n",
       "      <td>4963</td>\n",
       "      <td>4963</td>\n",
       "      <td>4963</td>\n",
       "      <td>4963</td>\n",
       "      <td>4963</td>\n",
       "      <td>4963</td>\n",
       "      <td>4963</td>\n",
       "      <td>4963</td>\n",
       "      <td>4963</td>\n",
       "      <td>4963</td>\n",
       "      <td>4963</td>\n",
       "      <td>4963</td>\n",
       "      <td>4963</td>\n",
       "      <td>4963</td>\n",
       "    </tr>\n",
       "    <tr>\n",
       "      <th>2011</th>\n",
       "      <td>5082</td>\n",
       "      <td>5082</td>\n",
       "      <td>5082</td>\n",
       "      <td>5082</td>\n",
       "      <td>5082</td>\n",
       "      <td>5082</td>\n",
       "      <td>5082</td>\n",
       "      <td>5082</td>\n",
       "      <td>5082</td>\n",
       "      <td>5082</td>\n",
       "      <td>5082</td>\n",
       "      <td>5082</td>\n",
       "      <td>5082</td>\n",
       "      <td>5082</td>\n",
       "      <td>5082</td>\n",
       "      <td>5082</td>\n",
       "      <td>5082</td>\n",
       "    </tr>\n",
       "    <tr>\n",
       "      <th>2012</th>\n",
       "      <td>5231</td>\n",
       "      <td>5231</td>\n",
       "      <td>5231</td>\n",
       "      <td>5231</td>\n",
       "      <td>5231</td>\n",
       "      <td>5231</td>\n",
       "      <td>5231</td>\n",
       "      <td>5231</td>\n",
       "      <td>5231</td>\n",
       "      <td>5231</td>\n",
       "      <td>5231</td>\n",
       "      <td>5231</td>\n",
       "      <td>5231</td>\n",
       "      <td>5231</td>\n",
       "      <td>5231</td>\n",
       "      <td>5231</td>\n",
       "      <td>5231</td>\n",
       "    </tr>\n",
       "    <tr>\n",
       "      <th>2013</th>\n",
       "      <td>5320</td>\n",
       "      <td>5320</td>\n",
       "      <td>5320</td>\n",
       "      <td>5320</td>\n",
       "      <td>5320</td>\n",
       "      <td>5320</td>\n",
       "      <td>5320</td>\n",
       "      <td>5320</td>\n",
       "      <td>5320</td>\n",
       "      <td>5320</td>\n",
       "      <td>5320</td>\n",
       "      <td>5320</td>\n",
       "      <td>5320</td>\n",
       "      <td>5320</td>\n",
       "      <td>5320</td>\n",
       "      <td>5320</td>\n",
       "      <td>5320</td>\n",
       "    </tr>\n",
       "    <tr>\n",
       "      <th>2014</th>\n",
       "      <td>5215</td>\n",
       "      <td>5215</td>\n",
       "      <td>5215</td>\n",
       "      <td>5215</td>\n",
       "      <td>5215</td>\n",
       "      <td>5215</td>\n",
       "      <td>5215</td>\n",
       "      <td>5215</td>\n",
       "      <td>5215</td>\n",
       "      <td>5215</td>\n",
       "      <td>5215</td>\n",
       "      <td>5215</td>\n",
       "      <td>5215</td>\n",
       "      <td>5215</td>\n",
       "      <td>5215</td>\n",
       "      <td>5215</td>\n",
       "      <td>5215</td>\n",
       "    </tr>\n",
       "    <tr>\n",
       "      <th>2015</th>\n",
       "      <td>4961</td>\n",
       "      <td>4961</td>\n",
       "      <td>4961</td>\n",
       "      <td>4961</td>\n",
       "      <td>4961</td>\n",
       "      <td>4961</td>\n",
       "      <td>4961</td>\n",
       "      <td>4961</td>\n",
       "      <td>4961</td>\n",
       "      <td>4961</td>\n",
       "      <td>4961</td>\n",
       "      <td>4961</td>\n",
       "      <td>4961</td>\n",
       "      <td>4961</td>\n",
       "      <td>4961</td>\n",
       "      <td>4961</td>\n",
       "      <td>4961</td>\n",
       "    </tr>\n",
       "  </tbody>\n",
       "</table>\n",
       "</div>"
      ],
      "text/plain": [
       "             EmployeeID  recorddate_key  birthdate_key  orighiredate_key  \\\n",
       "STATUS_YEAR                                                                \n",
       "2006               4579            4579           4579              4579   \n",
       "2007               4683            4683           4683              4683   \n",
       "2008               4767            4767           4767              4767   \n",
       "2009               4852            4852           4852              4852   \n",
       "2010               4963            4963           4963              4963   \n",
       "2011               5082            5082           5082              5082   \n",
       "2012               5231            5231           5231              5231   \n",
       "2013               5320            5320           5320              5320   \n",
       "2014               5215            5215           5215              5215   \n",
       "2015               4961            4961           4961              4961   \n",
       "\n",
       "             terminationdate_key   age  length_of_service  city_name  \\\n",
       "STATUS_YEAR                                                            \n",
       "2006                        4579  4579               4579       4579   \n",
       "2007                        4683  4683               4683       4683   \n",
       "2008                        4767  4767               4767       4767   \n",
       "2009                        4852  4852               4852       4852   \n",
       "2010                        4963  4963               4963       4963   \n",
       "2011                        5082  5082               5082       5082   \n",
       "2012                        5231  5231               5231       5231   \n",
       "2013                        5320  5320               5320       5320   \n",
       "2014                        5215  5215               5215       5215   \n",
       "2015                        4961  4961               4961       4961   \n",
       "\n",
       "             department_name  job_title  store_name  gender_short  \\\n",
       "STATUS_YEAR                                                         \n",
       "2006                    4579       4579        4579          4579   \n",
       "2007                    4683       4683        4683          4683   \n",
       "2008                    4767       4767        4767          4767   \n",
       "2009                    4852       4852        4852          4852   \n",
       "2010                    4963       4963        4963          4963   \n",
       "2011                    5082       5082        5082          5082   \n",
       "2012                    5231       5231        5231          5231   \n",
       "2013                    5320       5320        5320          5320   \n",
       "2014                    5215       5215        5215          5215   \n",
       "2015                    4961       4961        4961          4961   \n",
       "\n",
       "             gender_full  termreason_desc  termtype_desc  STATUS  \\\n",
       "STATUS_YEAR                                                        \n",
       "2006                4579             4579           4579    4579   \n",
       "2007                4683             4683           4683    4683   \n",
       "2008                4767             4767           4767    4767   \n",
       "2009                4852             4852           4852    4852   \n",
       "2010                4963             4963           4963    4963   \n",
       "2011                5082             5082           5082    5082   \n",
       "2012                5231             5231           5231    5231   \n",
       "2013                5320             5320           5320    5320   \n",
       "2014                5215             5215           5215    5215   \n",
       "2015                4961             4961           4961    4961   \n",
       "\n",
       "             BUSINESS_UNIT  \n",
       "STATUS_YEAR                 \n",
       "2006                  4579  \n",
       "2007                  4683  \n",
       "2008                  4767  \n",
       "2009                  4852  \n",
       "2010                  4963  \n",
       "2011                  5082  \n",
       "2012                  5231  \n",
       "2013                  5320  \n",
       "2014                  5215  \n",
       "2015                  4961  "
      ]
     },
     "execution_count": 20,
     "metadata": {},
     "output_type": "execute_result"
    }
   ],
   "source": [
    "year"
   ]
  },
  {
   "cell_type": "code",
   "execution_count": 21,
   "metadata": {},
   "outputs": [
    {
     "name": "stdout",
     "output_type": "stream",
     "text": [
      "<class 'pandas.core.frame.DataFrame'>\n",
      "Int64Index: 10 entries, 2006 to 2015\n",
      "Data columns (total 17 columns):\n",
      "EmployeeID             10 non-null int64\n",
      "recorddate_key         10 non-null int64\n",
      "birthdate_key          10 non-null int64\n",
      "orighiredate_key       10 non-null int64\n",
      "terminationdate_key    10 non-null int64\n",
      "age                    10 non-null int64\n",
      "length_of_service      10 non-null int64\n",
      "city_name              10 non-null int64\n",
      "department_name        10 non-null int64\n",
      "job_title              10 non-null int64\n",
      "store_name             10 non-null int64\n",
      "gender_short           10 non-null int64\n",
      "gender_full            10 non-null int64\n",
      "termreason_desc        10 non-null int64\n",
      "termtype_desc          10 non-null int64\n",
      "STATUS                 10 non-null int64\n",
      "BUSINESS_UNIT          10 non-null int64\n",
      "dtypes: int64(17)\n",
      "memory usage: 1.4 KB\n"
     ]
    }
   ],
   "source": [
    "year.info()"
   ]
  },
  {
   "cell_type": "code",
   "execution_count": 22,
   "metadata": {},
   "outputs": [],
   "source": [
    "#calculating the count of activa and terminated according to year\n",
    "active = []\n",
    "terminated = []\n",
    "for year in range(2006,2016):\n",
    "    active.append(sum((df.STATUS_YEAR == year) & (df.STATUS == 'ACTIVE')))\n",
    "    terminated.append(sum((df.STATUS_YEAR ==year) & (df.STATUS == 'TERMINATED')))"
   ]
  },
  {
   "cell_type": "code",
   "execution_count": 23,
   "metadata": {},
   "outputs": [
    {
     "data": {
      "text/plain": [
       "<matplotlib.collections.PathCollection at 0x15c09917d30>"
      ]
     },
     "execution_count": 23,
     "metadata": {},
     "output_type": "execute_result"
    },
    {
     "data": {
      "image/png": "[encoded data removed]",
      "text/plain": [
       "<Figure size 432x288 with 1 Axes>"
      ]
     },
     "metadata": {},
     "output_type": "display_data"
    }
   ],
   "source": [
    "status_count = pd.DataFrame({'year':list(range(2006,2016)),'active':active,'terminated':terminated})    \n",
    "\n",
    "plt.scatter(status_count.year,status_count.active,color = 'red')\n"
   ]
  },
  {
   "cell_type": "code",
   "execution_count": 21,
   "metadata": {},
   "outputs": [
    {
     "data": {
      "text/plain": [
       "<matplotlib.collections.PathCollection at 0x22402533630>"
      ]
     },
     "execution_count": 21,
     "metadata": {},
     "output_type": "execute_result"
    },
    {
     "data": {
      "image/png": "[encoded data removed]",
      "text/plain": [
       "<Figure size 432x288 with 1 Axes>"
      ]
     },
     "metadata": {},
     "output_type": "display_data"
    }
   ],
   "source": [
    "plt.scatter(status_count.year,status_count.terminated,color = 'red')"
   ]
  },
  {
   "cell_type": "code",
   "execution_count": 24,
   "metadata": {},
   "outputs": [],
   "source": [
    "#we are calculating the previous active\n",
    "#shift(1) is shift by 1 \n",
    "status_count['previous_active'] = status_count['active'].shift(1)"
   ]
  },
  {
   "cell_type": "code",
   "execution_count": 25,
   "metadata": {},
   "outputs": [],
   "source": [
    "#Rearanging the columns\n",
    "status_count = status_count[['year','active','terminated','previous_active']]"
   ]
  },
  {
   "cell_type": "code",
   "execution_count": 26,
   "metadata": {},
   "outputs": [],
   "source": [
    "#calculating the terminated people percentage\n",
    "status_count['percent_terminated'] = status_count['terminated']/(status_count['previous_active'])*100\n"
   ]
  },
  {
   "cell_type": "code",
   "execution_count": 27,
   "metadata": {},
   "outputs": [],
   "source": [
    "#dropping the NA\n",
    "status_count.dropna(inplace = True)"
   ]
  },
  {
   "cell_type": "code",
   "execution_count": 28,
   "metadata": {},
   "outputs": [
    {
     "data": {
      "text/plain": [
       "3.114495779930726"
      ]
     },
     "execution_count": 28,
     "metadata": {},
     "output_type": "execute_result"
    }
   ],
   "source": [
    "status_count['percent_terminated'].mean()"
   ]
  },
  {
   "cell_type": "code",
   "execution_count": 29,
   "metadata": {},
   "outputs": [
    {
     "data": {
      "text/plain": [
       "<matplotlib.axes._subplots.AxesSubplot at 0x15c09a084a8>"
      ]
     },
     "execution_count": 29,
     "metadata": {},
     "output_type": "execute_result"
    },
    {
     "data": {
      "image/png": "[encoded data removed]",
      "text/plain": [
       "<Figure size 432x288 with 1 Axes>"
      ]
     },
     "metadata": {},
     "output_type": "display_data"
    },
    {
     "data": {
      "image/png": "[encoded data removed]",
      "text/plain": [
       "<Figure size 432x288 with 1 Axes>"
      ]
     },
     "metadata": {},
     "output_type": "display_data"
    }
   ],
   "source": [
    "#bar plot of count vs business unit with Staus as fill(active ,terminated)\n",
    "sns.countplot(x ='STATUS',data=df,palette = 'hls')\n",
    "pd.crosstab(df['BUSINESS_UNIT'],df['STATUS']).plot(kind = 'bar')"
   ]
  },
  {
   "cell_type": "code",
   "execution_count": 30,
   "metadata": {},
   "outputs": [],
   "source": [
    "#extracting only terminated employess  and creating as dataframe\n",
    "#this acts like a filter and separates the status only if its is terminated\n",
    "terminated_df = df[df.STATUS == 'TERMINATED']"
   ]
  },
  {
   "cell_type": "code",
   "execution_count": 31,
   "metadata": {},
   "outputs": [
    {
     "data": {
      "text/plain": [
       "<matplotlib.axes._subplots.AxesSubplot at 0x15c099d1978>"
      ]
     },
     "execution_count": 31,
     "metadata": {},
     "output_type": "execute_result"
    },
    {
     "data": {
      "image/png": "[encoded data removed]",
      "text/plain": [
       "<Figure size 432x288 with 1 Axes>"
      ]
     },
     "metadata": {},
     "output_type": "display_data"
    }
   ],
   "source": [
    "pd.crosstab(terminated_df['STATUS_YEAR'],terminated_df['termtype_desc']).plot(kind='bar', stacked=True)"
   ]
  },
  {
   "cell_type": "code",
   "execution_count": 32,
   "metadata": {},
   "outputs": [
    {
     "data": {
      "text/plain": [
       "<matplotlib.axes._subplots.AxesSubplot at 0x15c099d6278>"
      ]
     },
     "execution_count": 32,
     "metadata": {},
     "output_type": "execute_result"
    },
    {
     "data": {
      "image/png": "[encoded data removed]",
      "text/plain": [
       "<Figure size 432x288 with 1 Axes>"
      ]
     },
     "metadata": {},
     "output_type": "display_data"
    }
   ],
   "source": [
    "pd.crosstab(terminated_df['STATUS_YEAR'],terminated_df['termreason_desc']).plot(kind='bar', stacked=True)"
   ]
  },
  {
   "cell_type": "code",
   "execution_count": 33,
   "metadata": {},
   "outputs": [
    {
     "data": {
      "text/plain": [
       "<matplotlib.axes._subplots.AxesSubplot at 0x15c09b7c710>"
      ]
     },
     "execution_count": 33,
     "metadata": {},
     "output_type": "execute_result"
    },
    {
     "data": {
      "image/png": "[encoded data removed]",
      "text/plain": [
       "<Figure size 432x288 with 1 Axes>"
      ]
     },
     "metadata": {},
     "output_type": "display_data"
    }
   ],
   "source": [
    "pd.crosstab(terminated_df['department_name'],terminated_df['termreason_desc']).plot(kind='bar', stacked=True)"
   ]
  },
  {
   "cell_type": "code",
   "execution_count": 34,
   "metadata": {},
   "outputs": [
    {
     "data": {
      "text/plain": [
       "<matplotlib.legend.Legend at 0x15c09ce4ac8>"
      ]
     },
     "execution_count": 34,
     "metadata": {},
     "output_type": "execute_result"
    },
    {
     "data": {
      "image/png": "[encoded data removed]",
      "text/plain": [
       "<Figure size 432x288 with 2 Axes>"
      ]
     },
     "metadata": {},
     "output_type": "display_data"
    }
   ],
   "source": [
    "# we are checking the density plot of age and length of service \n",
    "#according to status (active or terminated)\n",
    "#we are actually overlapping the first two graphs and plotting on 0 axis\n",
    "#we are actually overlapping the second  two graphs and plotting on 1 axis\n",
    "#this is feature plot as per the R code \n",
    "fig, axes = plt.subplots(1, 2, sharey = False,sharex = False)\n",
    "sns.distplot(df.age[df.STATUS == 'ACTIVE'], hist=False, kde=True, \n",
    "             bins=int(180/5), color = 'red',\n",
    "             hist_kws={'edgecolor':'black'},\n",
    "             kde_kws={'linewidth': 1},ax =axes[0],label = 'active')\n",
    "axes[0].legend(loc ='best')\n"
   ]
  },
  {
   "cell_type": "code",
   "execution_count": 35,
   "metadata": {},
   "outputs": [
    {
     "data": {
      "text/plain": [
       "<matplotlib.legend.Legend at 0x15c09be3358>"
      ]
     },
     "execution_count": 35,
     "metadata": {},
     "output_type": "execute_result"
    }
   ],
   "source": [
    "sns.distplot(df.age[df.STATUS == 'TERMINATED'], hist=False, kde=True, \n",
    "             bins=int(180/5), color = 'blue',\n",
    "             hist_kws={'edgecolor':'black'},\n",
    "             kde_kws={'linewidth': 1},ax =axes[0],label = 'terminated')\n",
    "axes[0].legend(loc ='best')"
   ]
  },
  {
   "cell_type": "code",
   "execution_count": 36,
   "metadata": {},
   "outputs": [
    {
     "data": {
      "text/plain": [
       "<matplotlib.legend.Legend at 0x15c09d49e10>"
      ]
     },
     "execution_count": 36,
     "metadata": {},
     "output_type": "execute_result"
    }
   ],
   "source": [
    "#we are actually overlapping the second  two graphs and plotting on 1 axis\n",
    "#this is feature plot as per the R code \n",
    "#fig, axes = plt.subplots(1, 2, sharey = False,sharex = False)\n",
    "  \n",
    "sns.distplot(df.length_of_service[df.STATUS == 'ACTIVE'], hist=False, kde=True, \n",
    "             bins=int(180/5), color = 'red',\n",
    "             hist_kws={'edgecolor':'black'},\n",
    "             kde_kws={'linewidth': 1},ax =axes[1],label = 'active')\n",
    "axes[1].legend(loc ='best')\n",
    "\n",
    "   \n",
    "sns.distplot(df.length_of_service[df.STATUS == 'TERMINATED'], hist=False, kde=True, \n",
    "             bins=int(180/5), color = 'blue',\n",
    "             hist_kws={'edgecolor':'black'},\n",
    "             kde_kws={'linewidth': 1},ax =axes[1],label = 'terminated')\n",
    "axes[1].legend(loc ='best')\n"
   ]
  },
  {
   "cell_type": "code",
   "execution_count": 37,
   "metadata": {},
   "outputs": [
    {
     "data": {
      "text/plain": [
       "<matplotlib.axes._subplots.AxesSubplot at 0x15c0ad5a208>"
      ]
     },
     "execution_count": 37,
     "metadata": {},
     "output_type": "execute_result"
    },
    {
     "data": {
      "image/png": "[encoded data removed]",
      "text/plain": [
       "<Figure size 432x288 with 2 Axes>"
      ]
     },
     "metadata": {},
     "output_type": "display_data"
    }
   ],
   "source": [
    "#feature plot of age vs status ad box plot\n",
    "#feature plot of length of service vs status ad box plot\n",
    "fig, axes = plt.subplots(1, 2, sharey = False,sharex = False)\n",
    "df[['age','STATUS']].boxplot(by = 'STATUS',ax=axes[0])\n",
    "df[['length_of_service','STATUS']].boxplot(by = 'STATUS',ax=axes[1])"
   ]
  },
  {
   "cell_type": "code",
   "execution_count": 38,
   "metadata": {},
   "outputs": [],
   "source": [
    "import random\n",
    "random.seed(42)\n",
    "\n",
    "from sklearn.preprocessing import LabelEncoder, OneHotEncoder\n",
    "labelencoder_Business_unit = LabelEncoder()\n",
    "df.iloc[:, 17] = labelencoder_Business_unit.fit_transform(df.iloc[:, 17])\n",
    "\n",
    "labelencoder_gender_full = LabelEncoder()\n",
    "df.iloc[:, 12] = labelencoder_gender_full.fit_transform(df.iloc[:, 12])\n",
    "\n",
    "labelencoder_status = LabelEncoder()\n",
    "df.iloc[:, 16] = labelencoder_status.fit_transform(df.iloc[:, 16])"
   ]
  },
  {
   "cell_type": "code",
   "execution_count": 39,
   "metadata": {},
   "outputs": [],
   "source": [
    "train_data = df[df.STATUS_YEAR <=2014]\n",
    "test_data = df[df.STATUS_YEAR ==2015]"
   ]
  },
  {
   "cell_type": "code",
   "execution_count": 40,
   "metadata": {},
   "outputs": [],
   "source": [
    "#training the data only on the status year <=2014\n",
    "X_train_var = train_data[['age','length_of_service','gender_full','STATUS_YEAR','BUSINESS_UNIT']]\n",
    "\n",
    "y_train_var = train_data.STATUS"
   ]
  },
  {
   "cell_type": "code",
   "execution_count": 42,
   "metadata": {},
   "outputs": [],
   "source": [
    "#testing data is of the year 2015\n",
    "X_test_var = test_data[['age','length_of_service','gender_full','STATUS_YEAR','BUSINESS_UNIT']]\n",
    "\n",
    "y_test_var = test_data.STATUS\n",
    "random.seed(42)"
   ]
  },
  {
   "cell_type": "code",
   "execution_count": 44,
   "metadata": {},
   "outputs": [
    {
     "data": {
      "text/plain": [
       "0.9572666801048175"
      ]
     },
     "execution_count": 44,
     "metadata": {},
     "output_type": "execute_result"
    }
   ],
   "source": [
    "import pydotplus\n",
    "from sklearn.tree import DecisionTreeClassifier,export_graphviz\n",
    "from sklearn.externals.six import StringIO\n",
    "from IPython.display import Image\n",
    "\n",
    "model = DecisionTreeClassifier()\n",
    "model.fit(X_train_var,y_train_var)\n",
    "y_pred = model.predict(X_test_var)\n",
    "\n",
    "X_test_var = X_test_var.values\n",
    "y_test_var = y_test_var.values\n",
    "model.score(X_test_var,y_test_var) #------  0.95726668010481752"
   ]
  },
  {
   "cell_type": "code",
   "execution_count": 45,
   "metadata": {},
   "outputs": [
    {
     "data": {
      "text/plain": [
       "([<matplotlib.axis.XTick at 0x15c0c1d9ac8>,\n",
       "  <matplotlib.axis.XTick at 0x15c0c1d9470>,\n",
       "  <matplotlib.axis.XTick at 0x15c0c1d9358>,\n",
       "  <matplotlib.axis.XTick at 0x15c0c202908>],\n",
       " <a list of 4 Text xticklabel objects>)"
      ]
     },
     "execution_count": 45,
     "metadata": {},
     "output_type": "execute_result"
    },
    {
     "data": {
      "image/png": "[encoded data removed]",
      "text/plain": [
       "<Figure size 432x288 with 1 Axes>"
      ]
     },
     "metadata": {},
     "output_type": "display_data"
    }
   ],
   "source": [
    "#plot for checking the number of 0's(active) and 1's (termin\n",
    "l = [sum(y_pred==0),sum(y_pred==1),sum(y_test_var==0),sum(y_test_var==1)]\n",
    "y_pos = np.arange(len(l))\n",
    "plt.bar(y_pos,height = l)\n",
    "plt.xticks(y_pos,['y_pred_0','y_pred_1','y_test_0','y_test_1'])"
   ]
  },
  {
   "cell_type": "code",
   "execution_count": 46,
   "metadata": {},
   "outputs": [
    {
     "data": {
      "text/plain": [
       "0.9572666801048175"
      ]
     },
     "execution_count": 46,
     "metadata": {},
     "output_type": "execute_result"
    }
   ],
   "source": [
    "from sklearn.ensemble import RandomForestClassifier\n",
    "from sklearn import metrics\n",
    "model1 = RandomForestClassifier() # 95% accuracy\n",
    "model1.fit(X_train_var,y_train_var)\n",
    "y_pred = model1.predict(X_test_var)\n",
    "model1.score(X_test_var,y_test_var)"
   ]
  },
  {
   "cell_type": "code",
   "execution_count": 47,
   "metadata": {},
   "outputs": [
    {
     "data": {
      "text/plain": [
       "0.9800443458980045"
      ]
     },
     "execution_count": 47,
     "metadata": {},
     "output_type": "execute_result"
    }
   ],
   "source": [
    "model1 = RandomForestClassifier(n_estimators=50,criterion='entropy',max_depth=4) # 98% accuracy\n",
    "model1.fit(X_train_var,y_train_var)\n",
    "y_pred = model1.predict(X_test_var)\n",
    "model1.score(X_test_var,y_test_var)"
   ]
  },
  {
   "cell_type": "code",
   "execution_count": 48,
   "metadata": {},
   "outputs": [
    {
     "data": {
      "text/plain": [
       "array([0.74119773, 0.14454736, 0.06431827, 0.04374263, 0.006194  ])"
      ]
     },
     "execution_count": 48,
     "metadata": {},
     "output_type": "execute_result"
    }
   ],
   "source": [
    "# feature importance of model : age and service length is having high importance (90%)\n",
    "model1.feature_importances_ "
   ]
  },
  {
   "cell_type": "code",
   "execution_count": 49,
   "metadata": {},
   "outputs": [],
   "source": [
    "# calculating auc\n",
    "pd.crosstab(y_test_var,y_pred)\n",
    "fpr,tpr,threshold = metrics.roc_curve(y_test_var,y_pred)\n",
    "roc_auc= metrics.auc(fpr,tpr) # 0.694"
   ]
  },
  {
   "cell_type": "code",
   "execution_count": 50,
   "metadata": {},
   "outputs": [
    {
     "data": {
      "image/png": "[encoded data removed]",
      "text/plain": [
       "<Figure size 432x288 with 1 Axes>"
      ]
     },
     "metadata": {},
     "output_type": "display_data"
    }
   ],
   "source": [
    "# ploting ROC curve\n",
    "plt.title('ROC')\n",
    "plt.plot(fpr,tpr, 'b' ,label = 'AUC =%0.2f' % roc_auc)\n",
    "plt.legend(loc = 'lower right')\n",
    "plt.plot([0,1],[0,1],'r--')\n",
    "plt.xlim([0,1])\n",
    "plt.ylim([0,1])\n",
    "plt.ylabel('TPR')\n",
    "plt.xlabel('FPR')\n",
    "plt.show()"
   ]
  },
  {
   "cell_type": "code",
   "execution_count": 51,
   "metadata": {},
   "outputs": [],
   "source": [
    "# using ada boost\n",
    "\n",
    "from sklearn.ensemble import AdaBoostClassifier\n",
    "from sklearn.ensemble import RandomForestClassifier\n",
    "from sklearn import metrics\n",
    "from sklearn.ensemble import VotingClassifier\n",
    "\n",
    "model = DecisionTreeClassifier()\n",
    "model.fit(X_train_var,y_train_var)\n",
    "y_pred = model.predict(X_test_var)"
   ]
  },
  {
   "cell_type": "code",
   "execution_count": 52,
   "metadata": {},
   "outputs": [
    {
     "data": {
      "text/plain": [
       "0.9800443458980045"
      ]
     },
     "execution_count": 52,
     "metadata": {},
     "output_type": "execute_result"
    }
   ],
   "source": [
    "model1 = RandomForestClassifier(n_estimators=50,criterion='entropy',max_depth=4) # 98% accuracy\n",
    "model1.fit(X_train_var,y_train_var)\n",
    "y_pred = model1.predict(X_test_var)\n",
    "model1.score(X_test_var,y_test_var)"
   ]
  },
  {
   "cell_type": "code",
   "execution_count": 53,
   "metadata": {},
   "outputs": [
    {
     "data": {
      "text/plain": [
       "0.9572666801048175"
      ]
     },
     "execution_count": 53,
     "metadata": {},
     "output_type": "execute_result"
    }
   ],
   "source": [
    "model2 = AdaBoostClassifier(base_estimator=DecisionTreeClassifier(),learning_rate=0.1,n_estimators=50)\n",
    "model2.fit(X_train_var,y_train_var)\n",
    "model2.score(X_test_var,y_test_var)"
   ]
  },
  {
   "cell_type": "code",
   "execution_count": 54,
   "metadata": {},
   "outputs": [
    {
     "data": {
      "text/plain": [
       "0.9572666801048175"
      ]
     },
     "execution_count": 54,
     "metadata": {},
     "output_type": "execute_result"
    }
   ],
   "source": [
    "model3 = AdaBoostClassifier(base_estimator=RandomForestClassifier(),learning_rate=0.1,n_estimators=50)\n",
    "model3.fit(X_train_var,y_train_var)\n",
    "model3.score(X_test_var,y_test_var)"
   ]
  },
  {
   "cell_type": "code",
   "execution_count": 55,
   "metadata": {},
   "outputs": [
    {
     "data": {
      "text/plain": [
       "0.9572666801048175"
      ]
     },
     "execution_count": 55,
     "metadata": {},
     "output_type": "execute_result"
    }
   ],
   "source": [
    "model_vc = VotingClassifier(estimators=[('a',model),('b',model1),('c',model2),('d',model3)],voting='hard')\n",
    "model_vc.fit(X_train_var,y_train_var)\n",
    "model.score(X_test_var,y_test_var)"
   ]
  },
  {
   "cell_type": "code",
   "execution_count": 56,
   "metadata": {},
   "outputs": [
    {
     "data": {
      "text/plain": [
       "0.9800443458980045"
      ]
     },
     "execution_count": 56,
     "metadata": {},
     "output_type": "execute_result"
    }
   ],
   "source": [
    "# SVM\n",
    "\n",
    "from sklearn.svm import SVC\n",
    "\n",
    "model_svc = SVC(random_state=42)\n",
    "model_svc.fit(X_train_var,y_train_var)\n",
    "model_svc.score(X_test_var,y_test_var) # 98%"
   ]
  },
  {
   "cell_type": "code",
   "execution_count": null,
   "metadata": {},
   "outputs": [],
   "source": []
  }
 ],
 "metadata": {
  "kernelspec": {
   "display_name": "Python 3",
   "language": "python",
   "name": "python3"
  },
  "language_info": {
   "codemirror_mode": {
    "name": "ipython",
    "version": 3
   },
   "file_extension": ".py",
   "mimetype": "text/x-python",
   "name": "python",
   "nbconvert_exporter": "python",
   "pygments_lexer": "ipython3",
   "version": "3.6.5"
  }
 },
 "nbformat": 4,
 "nbformat_minor": 2
}
